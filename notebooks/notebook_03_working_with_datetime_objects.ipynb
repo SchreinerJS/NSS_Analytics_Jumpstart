{
 "cells": [
  {
   "cell_type": "code",
   "execution_count": 1,
   "metadata": {},
   "outputs": [],
   "source": [
    "import pandas as pd"
   ]
  },
  {
   "cell_type": "markdown",
   "metadata": {},
   "source": [
    "### Data Types: all objects in python have a type. You can check the type by using the _type()_ function. Here are a few standard ones"
   ]
  },
  {
   "cell_type": "code",
   "execution_count": 2,
   "metadata": {},
   "outputs": [
    {
     "data": {
      "text/plain": [
       "float"
      ]
     },
     "execution_count": 2,
     "metadata": {},
     "output_type": "execute_result"
    }
   ],
   "source": [
    "type(1.5)"
   ]
  },
  {
   "cell_type": "code",
   "execution_count": 3,
   "metadata": {},
   "outputs": [
    {
     "data": {
      "text/plain": [
       "int"
      ]
     },
     "execution_count": 3,
     "metadata": {},
     "output_type": "execute_result"
    }
   ],
   "source": [
    "type(3)"
   ]
  },
  {
   "cell_type": "code",
   "execution_count": 4,
   "metadata": {},
   "outputs": [
    {
     "data": {
      "text/plain": [
       "str"
      ]
     },
     "execution_count": 4,
     "metadata": {},
     "output_type": "execute_result"
    }
   ],
   "source": [
    "type('abc')"
   ]
  },
  {
   "cell_type": "code",
   "execution_count": 5,
   "metadata": {},
   "outputs": [
    {
     "data": {
      "text/plain": [
       "bool"
      ]
     },
     "execution_count": 5,
     "metadata": {},
     "output_type": "execute_result"
    }
   ],
   "source": [
    "type(True)"
   ]
  },
  {
   "cell_type": "markdown",
   "metadata": {},
   "source": [
    "### You can convert between types."
   ]
  },
  {
   "cell_type": "code",
   "execution_count": 6,
   "metadata": {},
   "outputs": [
    {
     "data": {
      "text/plain": [
       "1.0"
      ]
     },
     "execution_count": 6,
     "metadata": {},
     "output_type": "execute_result"
    }
   ],
   "source": [
    "float(1)"
   ]
  },
  {
   "cell_type": "code",
   "execution_count": 7,
   "metadata": {},
   "outputs": [
    {
     "data": {
      "text/plain": [
       "'1'"
      ]
     },
     "execution_count": 7,
     "metadata": {},
     "output_type": "execute_result"
    }
   ],
   "source": [
    "str(1)"
   ]
  },
  {
   "cell_type": "code",
   "execution_count": 8,
   "metadata": {},
   "outputs": [
    {
     "data": {
      "text/plain": [
       "9"
      ]
     },
     "execution_count": 8,
     "metadata": {},
     "output_type": "execute_result"
    }
   ],
   "source": [
    "int('9')"
   ]
  },
  {
   "cell_type": "code",
   "execution_count": 9,
   "metadata": {},
   "outputs": [
    {
     "data": {
      "text/plain": [
       "9"
      ]
     },
     "execution_count": 9,
     "metadata": {},
     "output_type": "execute_result"
    }
   ],
   "source": [
    "int(9.9)"
   ]
  },
  {
   "cell_type": "markdown",
   "metadata": {},
   "source": [
    "### DataFrames also have a type"
   ]
  },
  {
   "cell_type": "code",
   "execution_count": 10,
   "metadata": {},
   "outputs": [],
   "source": [
    "accidents = pd.read_csv('../data/Traffic_Accidents__2019_.csv')"
   ]
  },
  {
   "cell_type": "code",
   "execution_count": 11,
   "metadata": {
    "scrolled": true
   },
   "outputs": [
    {
     "data": {
      "text/plain": [
       "pandas.core.frame.DataFrame"
      ]
     },
     "execution_count": 11,
     "metadata": {},
     "output_type": "execute_result"
    }
   ],
   "source": [
    "type(accidents)"
   ]
  },
  {
   "cell_type": "markdown",
   "metadata": {},
   "source": [
    "### And each column has a type"
   ]
  },
  {
   "cell_type": "code",
   "execution_count": 12,
   "metadata": {},
   "outputs": [
    {
     "name": "stdout",
     "output_type": "stream",
     "text": [
      "<class 'pandas.core.frame.DataFrame'>\n",
      "RangeIndex: 34692 entries, 0 to 34691\n",
      "Data columns (total 25 columns):\n",
      " #   Column                      Non-Null Count  Dtype  \n",
      "---  ------                      --------------  -----  \n",
      " 0   Accident Number             34692 non-null  int64  \n",
      " 1   Date and Time               34692 non-null  object \n",
      " 2   Number of Motor Vehicles    34692 non-null  int64  \n",
      " 3   Number of Injuries          34692 non-null  int64  \n",
      " 4   Number of Fatalities        34692 non-null  int64  \n",
      " 5   Property Damage             2495 non-null   object \n",
      " 6   Hit and Run                 34691 non-null  object \n",
      " 7   Reporting Officer           34684 non-null  float64\n",
      " 8   Collision Type Code         34688 non-null  float64\n",
      " 9   Collision Type Description  34688 non-null  object \n",
      " 10  Weather Code                34641 non-null  float64\n",
      " 11  Weather Description         34641 non-null  object \n",
      " 12  Illumination Code           34665 non-null  float64\n",
      " 13  Illumination Description    34665 non-null  object \n",
      " 14  Harmful Code                34692 non-null  object \n",
      " 15  Harmful Code Description    34333 non-null  object \n",
      " 16  Street Address              34691 non-null  object \n",
      " 17  City                        34692 non-null  object \n",
      " 18  State                       34692 non-null  object \n",
      " 19  ZIP                         34658 non-null  float64\n",
      " 20  RPA                         34681 non-null  float64\n",
      " 21  Precinct                    34681 non-null  object \n",
      " 22  Latitude                    34670 non-null  float64\n",
      " 23  Longitude                   34670 non-null  float64\n",
      " 24  Mapped Location             34670 non-null  object \n",
      "dtypes: float64(8), int64(4), object(13)\n",
      "memory usage: 6.6+ MB\n"
     ]
    }
   ],
   "source": [
    "accidents.info()"
   ]
  },
  {
   "cell_type": "markdown",
   "metadata": {},
   "source": [
    "Notice that quite a few of the columns are of the \"object\" type. By default, pandas will convert text data into the object datatype."
   ]
  },
  {
   "cell_type": "markdown",
   "metadata": {},
   "source": [
    "You can convert between types using the `.astype` method. For example, if we needed to treat the accident number as text instead of an integer, we could use the following:"
   ]
  },
  {
   "cell_type": "code",
   "execution_count": 13,
   "metadata": {},
   "outputs": [],
   "source": [
    "accidents['Accident Number'] = accidents['Accident Number'].astype(str)"
   ]
  },
  {
   "cell_type": "code",
   "execution_count": 14,
   "metadata": {
    "scrolled": true
   },
   "outputs": [
    {
     "name": "stdout",
     "output_type": "stream",
     "text": [
      "<class 'pandas.core.frame.DataFrame'>\n",
      "RangeIndex: 34692 entries, 0 to 34691\n",
      "Data columns (total 25 columns):\n",
      " #   Column                      Non-Null Count  Dtype  \n",
      "---  ------                      --------------  -----  \n",
      " 0   Accident Number             34692 non-null  object \n",
      " 1   Date and Time               34692 non-null  object \n",
      " 2   Number of Motor Vehicles    34692 non-null  int64  \n",
      " 3   Number of Injuries          34692 non-null  int64  \n",
      " 4   Number of Fatalities        34692 non-null  int64  \n",
      " 5   Property Damage             2495 non-null   object \n",
      " 6   Hit and Run                 34691 non-null  object \n",
      " 7   Reporting Officer           34684 non-null  float64\n",
      " 8   Collision Type Code         34688 non-null  float64\n",
      " 9   Collision Type Description  34688 non-null  object \n",
      " 10  Weather Code                34641 non-null  float64\n",
      " 11  Weather Description         34641 non-null  object \n",
      " 12  Illumination Code           34665 non-null  float64\n",
      " 13  Illumination Description    34665 non-null  object \n",
      " 14  Harmful Code                34692 non-null  object \n",
      " 15  Harmful Code Description    34333 non-null  object \n",
      " 16  Street Address              34691 non-null  object \n",
      " 17  City                        34692 non-null  object \n",
      " 18  State                       34692 non-null  object \n",
      " 19  ZIP                         34658 non-null  float64\n",
      " 20  RPA                         34681 non-null  float64\n",
      " 21  Precinct                    34681 non-null  object \n",
      " 22  Latitude                    34670 non-null  float64\n",
      " 23  Longitude                   34670 non-null  float64\n",
      " 24  Mapped Location             34670 non-null  object \n",
      "dtypes: float64(8), int64(3), object(14)\n",
      "memory usage: 6.6+ MB\n"
     ]
    }
   ],
   "source": [
    "accidents.info()"
   ]
  },
  {
   "cell_type": "markdown",
   "metadata": {},
   "source": [
    "Notice that the `Date and Time` column is currently being treated as an `object`. This would make it quite difficult to do comparisions or aggregations, for example, between months or days of the week.\n",
    "\n",
    "Fortunately, we can convert it to a more useful data type, the `datetime` data type.\n",
    "\n",
    "In order to do this, we can use the `pd.to_datetime` function.\n",
    "\n",
    "If we don't tell it otherwise, this function will infer the different date and time components of the string. This can be slow, especially when we have a large number of rows of data.\n",
    "\n",
    "However, we can help it out be being explicit about the format. To do this, you will have to use datetime symbols: https://docs.python.org/3/library/datetime.html#strftime-and-strptime-behavior"
   ]
  },
  {
   "cell_type": "code",
   "execution_count": null,
   "metadata": {},
   "outputs": [],
   "source": [
    "accidents['Date and Time'] = pd.to_datetime(accidents['Date and Time'], \n",
    "                                            format = '%m/%d/%Y %I:%M:%S %p')"
   ]
  },
  {
   "cell_type": "code",
   "execution_count": null,
   "metadata": {},
   "outputs": [],
   "source": [
    "# Now the column is a datetime64[ns]\n",
    "accidents.dtypes"
   ]
  },
  {
   "cell_type": "code",
   "execution_count": null,
   "metadata": {},
   "outputs": [],
   "source": [
    "# The values in the Date and Time column look different now\n",
    "accidents.head()"
   ]
  },
  {
   "cell_type": "code",
   "execution_count": null,
   "metadata": {},
   "outputs": [],
   "source": [
    "# And we can see each value is a timestamp\n",
    "accidents.loc[0, 'Date and Time']"
   ]
  },
  {
   "cell_type": "markdown",
   "metadata": {},
   "source": [
    "### Once you have a `datetime` object, you can pull out [individual parts](https://pandas.pydata.org/pandas-docs/stable/reference/api/pandas.Series.dt.html)\n",
    "- Use `.dt` to specify a datetime attribute/function and then what you want to pull out\n",
    "- Pull out the month from the 'Date and Time' column and save it to a new column called 'month'"
   ]
  },
  {
   "cell_type": "code",
   "execution_count": null,
   "metadata": {},
   "outputs": [],
   "source": [
    "accidents['month'] = accidents['Date and Time'].dt.month\n",
    "accidents.head()"
   ]
  },
  {
   "cell_type": "markdown",
   "metadata": {},
   "source": [
    "### Now, let's see if we can take advantage of the datetime format to answer some questions.\n",
    "\n",
    "#### Question 1: What is the maximum number of cars involved in a single accident in July?\n",
    "- First, subset the `accidents` DataFrame to get the July accidents\n",
    "- Then, find the maximum `Number of Motor Vehicles` for accidents that happened in July"
   ]
  },
  {
   "cell_type": "code",
   "execution_count": null,
   "metadata": {},
   "outputs": [],
   "source": [
    "# Fill in the code here"
   ]
  },
  {
   "cell_type": "markdown",
   "metadata": {},
   "source": [
    "And if we want to get more information on this accident, we can use the `nlargest` method."
   ]
  },
  {
   "cell_type": "code",
   "execution_count": null,
   "metadata": {},
   "outputs": [],
   "source": [
    "accidents[accidents['month']==7].nlargest(1, 'Number of Motor Vehicles')"
   ]
  },
  {
   "cell_type": "markdown",
   "metadata": {},
   "source": [
    "#### Question 2: How many total accidents happened in December?"
   ]
  },
  {
   "cell_type": "code",
   "execution_count": null,
   "metadata": {},
   "outputs": [],
   "source": [
    "# Fill in the code here"
   ]
  },
  {
   "cell_type": "markdown",
   "metadata": {},
   "source": [
    "### There are [many different attributes associated with datetimes](https://towardsdatascience.com/working-with-datetime-in-pandas-dataframe-663f7af6c587)"
   ]
  },
  {
   "cell_type": "code",
   "execution_count": null,
   "metadata": {},
   "outputs": [],
   "source": [
    "accidents['Date and Time'].dt.time.head()"
   ]
  },
  {
   "cell_type": "code",
   "execution_count": null,
   "metadata": {},
   "outputs": [],
   "source": [
    "accidents['Date and Time'].dt.date.head()"
   ]
  },
  {
   "cell_type": "code",
   "execution_count": null,
   "metadata": {},
   "outputs": [],
   "source": [
    "accidents['Date and Time'].dt.day_name().head()"
   ]
  },
  {
   "cell_type": "code",
   "execution_count": null,
   "metadata": {},
   "outputs": [],
   "source": [
    "accidents['Date and Time'].dt.is_leap_year.head()"
   ]
  },
  {
   "cell_type": "markdown",
   "metadata": {},
   "source": [
    "### You can use comparison symbols on `datetime` objects as well"
   ]
  },
  {
   "cell_type": "code",
   "execution_count": null,
   "metadata": {},
   "outputs": [],
   "source": [
    "# How many accidents happened before March 3\n",
    "(accidents['Date and Time'] < '03/03/2019').sum()\n",
    "\n",
    "# Note: You have to input the comparison value as a string,\n",
    "# but the format can vary and pandas will attempt to infer the format.\n",
    "# Try putting in different formats and rerunning this cell."
   ]
  },
  {
   "cell_type": "markdown",
   "metadata": {},
   "source": [
    "### You can also perform calculations on `datetime` objects\n",
    "\n",
    "The difference of datetime objects is a [Timedelta](https://pandas.pydata.org/docs/reference/api/pandas.Timedelta.html)."
   ]
  },
  {
   "cell_type": "code",
   "execution_count": null,
   "metadata": {},
   "outputs": [],
   "source": [
    "# How long between the 1st and 101th accident?\n",
    "accidents = accidents.sort_values('Date and Time')\n",
    "accidents.loc[100, 'Date and Time'] - accidents.loc[0, 'Date and Time']\n",
    "\n",
    "# It appears as a Timedelta, or a change in time"
   ]
  }
 ],
 "metadata": {
  "kernelspec": {
   "display_name": "Python 3 (ipykernel)",
   "language": "python",
   "name": "python3"
  },
  "language_info": {
   "codemirror_mode": {
    "name": "ipython",
    "version": 3
   },
   "file_extension": ".py",
   "mimetype": "text/x-python",
   "name": "python",
   "nbconvert_exporter": "python",
   "pygments_lexer": "ipython3",
   "version": "3.9.13"
  }
 },
 "nbformat": 4,
 "nbformat_minor": 2
}
